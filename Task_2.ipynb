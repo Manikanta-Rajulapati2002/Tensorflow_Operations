{
 "cells": [
  {
   "cell_type": "markdown",
   "id": "0a8738b2-0983-46d7-96d7-bd93f5020f0c",
   "metadata": {},
   "source": [
    "# 2. Loss Functions & Hyperparameter Tuning"
   ]
  },
  {
   "cell_type": "markdown",
   "id": "1b58a040-50ba-4df0-accf-d20762ec6578",
   "metadata": {},
   "source": [
    "Task: Implement and Compare Loss Functions"
   ]
  },
  {
   "cell_type": "code",
   "execution_count": 16,
   "id": "dde87966-7e0e-4579-8153-7b20f79ed3ce",
   "metadata": {},
   "outputs": [],
   "source": [
    "import tensorflow as tf\n",
    "import matplotlib.pyplot as plt\n",
    "import numpy as np"
   ]
  },
  {
   "cell_type": "code",
   "execution_count": 12,
   "id": "712f6d5e-88ba-411e-a9da-e7dbffe89479",
   "metadata": {},
   "outputs": [
    {
     "name": "stdout",
     "output_type": "stream",
     "text": [
      "True values : \n",
      " [[0. 1. 0. 0.]\n",
      " [0. 0. 1. 0.]\n",
      " [1. 0. 0. 0.]\n",
      " [0. 0. 0. 1.]]\n",
      "Model predictions : \n",
      " [[0.1  0.7  0.1  0.1 ]\n",
      " [0.2  0.2  0.5  0.1 ]\n",
      " [0.6  0.3  0.05 0.05]\n",
      " [0.1  0.2  0.2  0.5 ]]\n"
     ]
    }
   ],
   "source": [
    "# Defining true values (y_true) and model predictions (y_pred)\n",
    "\n",
    "# True values\n",
    "y_true = tf.constant([[0, 1, 0, 0], \n",
    "                      [0, 0, 1, 0], \n",
    "                      [1, 0, 0, 0], \n",
    "                      [0, 0, 0, 1]], dtype=tf.float32)\n",
    "\n",
    "# Model predictions\n",
    "y_pred = tf.constant([[0.1, 0.7, 0.1, 0.1], \n",
    "                      [0.2, 0.2, 0.5, 0.1], \n",
    "                      [0.6, 0.3, 0.05, 0.05], \n",
    "                      [0.1, 0.2, 0.2, 0.5]], dtype=tf.float32)\n",
    "\n",
    "print(\"True values : \\n\",y_true.numpy())\n",
    "print(\"Model predictions : \\n\",y_pred.numpy())"
   ]
  },
  {
   "cell_type": "code",
   "execution_count": 14,
   "id": "920b147c-d5bf-4ce9-a9a3-9156d53b2e91",
   "metadata": {},
   "outputs": [
    {
     "name": "stdout",
     "output_type": "stream",
     "text": [
      "The Mean Squared Error (MSE) is :  0.065937504\n",
      "The Categorical Cross Entropy (CCE) is :  0.5634487\n"
     ]
    }
   ],
   "source": [
    "#Computing the Mean_Squared_Error (MSE)\n",
    "mse = tf.keras.losses.MeanSquaredError()\n",
    "mse_loss = mse(y_true,y_pred)\n",
    "\n",
    "#Computing the Categorical_Cross_Entropy (CCE)\n",
    "cce = tf.keras.losses.CategoricalCrossentropy()\n",
    "cce_loss = cce(y_true,y_pred)\n",
    "\n",
    "print(\"The Mean Squared Error (MSE) is : \",mse_loss.numpy())\n",
    "print(\"The Categorical Cross Entropy (CCE) is : \",cce_loss.numpy())"
   ]
  },
  {
   "cell_type": "code",
   "execution_count": 15,
   "id": "2b9b207a-4a7a-403a-97e7-8714040cc3ca",
   "metadata": {},
   "outputs": [
    {
     "name": "stdout",
     "output_type": "stream",
     "text": [
      "Modified model predictions : \n",
      " [[0.2  0.5  0.2  0.1 ]\n",
      " [0.3  0.3  0.3  0.1 ]\n",
      " [0.4  0.4  0.1  0.1 ]\n",
      " [0.25 0.25 0.25 0.25]]\n",
      "The modified mean squared error (MSE) is :  0.144375\n",
      "The modified categorical cross entropy (CCE) is :  1.0499263\n"
     ]
    }
   ],
   "source": [
    "#Modifying the y_prediction values \n",
    "y_pred_modified = tf.constant([[0.2, 0.5, 0.2, 0.1], \n",
    "                               [0.3, 0.3, 0.3, 0.1], \n",
    "                               [0.4, 0.4, 0.1, 0.1], \n",
    "                               [0.25, 0.25, 0.25, 0.25]], dtype=tf.float32)\n",
    "print(\"Modified model predictions : \\n\",y_pred_modified.numpy())\n",
    "#Computing the losses again\n",
    "mse_loss_modified = mse(y_true,y_pred_modified)\n",
    "cce_loss_modified = cce(y_true,y_pred_modified)\n",
    "\n",
    "print(\"The modified mean squared error (MSE) is : \",mse_loss_modified.numpy())\n",
    "print(\"The modified categorical cross entropy (CCE) is : \",cce_loss_modified.numpy())"
   ]
  },
  {
   "cell_type": "code",
   "execution_count": 20,
   "id": "f6380b60-745d-4d8e-89bc-52c73e007286",
   "metadata": {},
   "outputs": [
    {
     "data": {
      "image/png": "[encoded data removed]",
      "text/plain": [
       "<Figure size 800x500 with 1 Axes>"
      ]
     },
     "metadata": {},
     "output_type": "display_data"
    }
   ],
   "source": [
    "#Plotting the loss functions values using Matplotlib\n",
    "\n",
    "loss_types = ['MSE', 'CCE']\n",
    "original_losses = [mse_loss.numpy(), cce_loss.numpy()]\n",
    "modified_losses = [mse_loss_modified.numpy(), cce_loss_modified.numpy()]\n",
    "\n",
    "x = np.arange(len(loss_types))  # Label locations\n",
    "width = 0.35  # Width of the bars\n",
    "\n",
    "plt.figure(figsize=(8, 5))\n",
    "plt.bar(x - width/2, original_losses, width, label='Original Predictions', color='red')\n",
    "plt.bar(x + width/2, modified_losses, width, label='Modified Predictions', color='blue')\n",
    "\n",
    "plt.ylabel('Loss Value')\n",
    "plt.title('Comparison of Losses (Original vs. Modified Predictions)')\n",
    "plt.xticks(x, loss_types)\n",
    "plt.legend()\n",
    "\n",
    "plt.show()\n"
   ]
  },
  {
   "cell_type": "code",
   "execution_count": null,
   "id": "c9d1de83-be66-4b3b-a0b2-0b769184cc18",
   "metadata": {},
   "outputs": [],
   "source": []
  }
 ],
 "metadata": {
  "kernelspec": {
   "display_name": "Python 3 (ipykernel)",
   "language": "python",
   "name": "python3"
  },
  "language_info": {
   "codemirror_mode": {
    "name": "ipython",
    "version": 3
   },
   "file_extension": ".py",
   "mimetype": "text/x-python",
   "name": "python",
   "nbconvert_exporter": "python",
   "pygments_lexer": "ipython3",
   "version": "3.12.8"
  }
 },
 "nbformat": 4,
 "nbformat_minor": 5
}
