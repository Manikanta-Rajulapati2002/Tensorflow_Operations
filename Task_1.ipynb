{
 "cells": [
  {
   "cell_type": "markdown",
   "id": "b63a8af4-a5ed-4970-b2ae-e4af7cfed944",
   "metadata": {},
   "source": [
    "# 1. Tensor Manipulations & Reshaping"
   ]
  },
  {
   "cell_type": "markdown",
   "id": "9ada9582-c027-4f96-a159-a43b50a815f8",
   "metadata": {},
   "source": [
    "Task: Tensor Reshaping & Operations"
   ]
  },
  {
   "cell_type": "code",
   "execution_count": 1,
   "id": "4c9e1f85-0c76-4fa7-9248-69efd0e62e2d",
   "metadata": {},
   "outputs": [],
   "source": [
    "import tensorflow as tf"
   ]
  },
  {
   "cell_type": "code",
   "execution_count": 24,
   "id": "719ab805-a25e-4003-b760-6615ebd17afe",
   "metadata": {},
   "outputs": [
    {
     "name": "stdout",
     "output_type": "stream",
     "text": [
      "The random tensor is :  \n",
      " [[ 4  3  9  8 19 10]\n",
      " [18 11  3 18  1 15]\n",
      " [13  2  9  7 17  2]\n",
      " [ 4 12 10  5  1 19]]\n",
      "The rank of the tensor is :  2\n",
      "The shape of the tensor is :  [4 6]\n"
     ]
    }
   ],
   "source": [
    "#Creating a random tensor of shape(4,6)\n",
    "tensor = tf.random.uniform(shape = (4,6),minval = 1, maxval = 20,dtype = tf.int32)\n",
    "print(\"The random tensor is : \",'\\n',tensor.numpy())\n",
    "\n",
    "#Finding the rank and shape of the tensor using the TensorFlow functions\n",
    "rank = tf.rank(tensor)\n",
    "shape = tf.shape(tensor)\n",
    "\n",
    "print(\"The rank of the tensor is : \",rank.numpy())\n",
    "print(\"The shape of the tensor is : \",shape.numpy())"
   ]
  },
  {
   "cell_type": "code",
   "execution_count": 25,
   "id": "4ff8613d-fda3-48d6-8e82-eaf3c4f3552c",
   "metadata": {},
   "outputs": [
    {
     "name": "stdout",
     "output_type": "stream",
     "text": [
      "The rank of the reshape_tensor is :  3\n",
      "The shape of the reshape_tensor is :  [2 3 4]\n"
     ]
    }
   ],
   "source": [
    "#Reshaping the tensor into (2, ,3, 4)\n",
    "reshape_tensor = tf.reshape(tensor, (2, 3, 4))\n",
    "\n",
    "#Finding the rank and shape of the tensor after reshaping \n",
    "rank = tf.rank(reshape_tensor)\n",
    "shape = tf.shape(reshape_tensor)\n",
    "\n",
    "print(\"The rank of the reshape_tensor is : \",rank.numpy())\n",
    "print(\"The shape of the reshape_tensor is : \",shape.numpy())"
   ]
  },
  {
   "cell_type": "code",
   "execution_count": 26,
   "id": "bd002f37-1f43-4a68-9910-145c12a4fada",
   "metadata": {},
   "outputs": [
    {
     "name": "stdout",
     "output_type": "stream",
     "text": [
      "The rank of the transposed tensor is :  3\n",
      "The shape of the transposed tensor is :  [3 2 4]\n"
     ]
    }
   ],
   "source": [
    "#Transposing the reshaped tensor into (3, 2, 4)\n",
    "transposed_tensor = tf.transpose(reshape_tensor, perm = [1, 0, 2])\n",
    "\n",
    "#Finding the rank and shape of the tensor after transposed\n",
    "rank = tf.rank(transposed_tensor)\n",
    "shape = tf.shape(transposed_tensor)\n",
    "\n",
    "print(\"The rank of the transposed tensor is : \",rank.numpy())\n",
    "print(\"The shape of the transposed tensor is : \",shape.numpy())"
   ]
  },
  {
   "cell_type": "code",
   "execution_count": 29,
   "id": "c1c3c7a6-00f6-45e6-bc0a-18e4fee317c8",
   "metadata": {},
   "outputs": [
    {
     "name": "stdout",
     "output_type": "stream",
     "text": [
      "The smaller tensor is :  \n",
      " [[ 4 15 18  1]]\n",
      "\n",
      "The broadcasted sum of the smaller tensor and larger tensor is :  \n",
      " [[[ 8 18 27  9]\n",
      "  [17 17 27  8]]\n",
      "\n",
      " [[23 25 36 12]\n",
      "  [21 17 22 13]]\n",
      "\n",
      " [[ 7 33 19 16]\n",
      "  [14 20 19 20]]]\n"
     ]
    }
   ],
   "source": [
    "#Broadcasting the smaller tensor (1, 4)\n",
    "smaller_tensor = tf.random.uniform(shape =(1, 4), minval = 1, maxval = 20, dtype =tf.int32)\n",
    "print(\"The smaller tensor is : \",'\\n',smaller_tensor.numpy())\n",
    "\n",
    "#Adding the smaller tensor with the larger tensor\n",
    "broadcasted_sum = transposed_tensor + smaller_tensor\n",
    "\n",
    "print('\\nThe broadcasted sum of the smaller tensor and larger tensor is : ','\\n',broadcasted_sum.numpy())"
   ]
  },
  {
   "cell_type": "markdown",
   "id": "075594d0-707c-4c99-8579-485bc387800c",
   "metadata": {},
   "source": [
    "# Explain how broadcasting works in TensorFlow"
   ]
  },
  {
   "cell_type": "markdown",
   "id": "af879431-54c5-48ea-ae05-b8083f1e6b7c",
   "metadata": {},
   "source": [
    "Broadcasting in TensorFlow allows you to perform element-wise operations on tensors with different shapes without having to manually duplicate data. When you add two tensors of different shapes, TensorFlow automatically expands the smaller tensor to match the shape of the larger one, making the operation possible.\n",
    "\n",
    "How Broadcasting Works:\n",
    "\n",
    "TensorFlow compares the dimensions of both tensors starting from the rightmost side.\n",
    "Two dimensions are considered compatible if:\n",
    "They are the same, or one of them is 1 (which allows TensorFlow to stretch or \"broadcast\" it to match the other dimension).\n",
    "\n",
    "Example: \n",
    "In our case, we have a tensor with shape (3, 2, 4) and a smaller tensor with shape (1, 4). TensorFlow automatically expands the smaller tensor across the first two dimensions, effectively treating it as if it had the shape (3, 2, 4), without actually copying the data. This makes the addition operation seamless and efficient."
   ]
  },
  {
   "cell_type": "code",
   "execution_count": null,
   "id": "da05a466-bdaf-4ef9-a5e2-7ca5b86fb320",
   "metadata": {},
   "outputs": [],
   "source": []
  }
 ],
 "metadata": {
  "kernelspec": {
   "display_name": "Python 3 (ipykernel)",
   "language": "python",
   "name": "python3"
  },
  "language_info": {
   "codemirror_mode": {
    "name": "ipython",
    "version": 3
   },
   "file_extension": ".py",
   "mimetype": "text/x-python",
   "name": "python",
   "nbconvert_exporter": "python",
   "pygments_lexer": "ipython3",
   "version": "3.12.8"
  }
 },
 "nbformat": 4,
 "nbformat_minor": 5
}
